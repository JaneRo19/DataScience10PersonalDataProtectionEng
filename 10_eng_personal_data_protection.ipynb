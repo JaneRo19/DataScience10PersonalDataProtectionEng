{
 "cells": [
  {
   "cell_type": "markdown",
   "metadata": {},
   "source": [
    "# Personal data protection"
   ]
  },
  {
   "cell_type": "markdown",
   "metadata": {},
   "source": [
    "We need to protect the data of customers of the insurance company \"Though the Flood\". We need to develop a data transformation method that makes it difficult to recover personal information from it. Also we will justify the correctness of his work.\n",
    "\n",
    "We need to protect the data so that the quality of the machine learning models does not deteriorate during the transformation. It is not necessary to select the best model.\n",
    "\n",
    "We will follow the following steps:\n",
    "\n",
    "1) upload the data and check its correctness. If any errors or anomalies are found, we will correct them.\n",
    "\n",
    "2) we will carry out a theoretical proof of the answers to the questions posed below\n",
    "\n",
    "3) we will develop a transformation algorithm\n",
    "\n",
    "4) implement this algorithm and check it on a test sample\n",
    "\n",
    "5) give a general conclusion."
   ]
  },
  {
   "cell_type": "markdown",
   "metadata": {},
   "source": [
    "## Loading data"
   ]
  },
  {
   "cell_type": "code",
   "execution_count": 1,
   "metadata": {},
   "outputs": [],
   "source": [
    "# load libraries\n",
    "import pandas as pd\n",
    "import numpy as np\n",
    "\n",
    "from sklearn.linear_model import LinearRegression\n",
    "from sklearn.metrics import r2_score\n",
    "from sklearn.model_selection import train_test_split"
   ]
  },
  {
   "cell_type": "code",
   "execution_count": 2,
   "metadata": {},
   "outputs": [],
   "source": [
    "# read data\n",
    "data = pd.read_csv('....csv')"
   ]
  },
  {
   "cell_type": "code",
   "execution_count": 3,
   "metadata": {},
   "outputs": [
    {
     "data": {
      "text/html": [
       "<div>\n",
       "<style scoped>\n",
       "    .dataframe tbody tr th:only-of-type {\n",
       "        vertical-align: middle;\n",
       "    }\n",
       "\n",
       "    .dataframe tbody tr th {\n",
       "        vertical-align: top;\n",
       "    }\n",
       "\n",
       "    .dataframe thead th {\n",
       "        text-align: right;\n",
       "    }\n",
       "</style>\n",
       "<table border=\"1\" class=\"dataframe\">\n",
       "  <thead>\n",
       "    <tr style=\"text-align: right;\">\n",
       "      <th></th>\n",
       "      <th>Пол</th>\n",
       "      <th>Возраст</th>\n",
       "      <th>Зарплата</th>\n",
       "      <th>Члены семьи</th>\n",
       "      <th>Страховые выплаты</th>\n",
       "    </tr>\n",
       "  </thead>\n",
       "  <tbody>\n",
       "    <tr>\n",
       "      <th>0</th>\n",
       "      <td>1</td>\n",
       "      <td>41.0</td>\n",
       "      <td>49600.0</td>\n",
       "      <td>1</td>\n",
       "      <td>0</td>\n",
       "    </tr>\n",
       "    <tr>\n",
       "      <th>1</th>\n",
       "      <td>0</td>\n",
       "      <td>46.0</td>\n",
       "      <td>38000.0</td>\n",
       "      <td>1</td>\n",
       "      <td>1</td>\n",
       "    </tr>\n",
       "    <tr>\n",
       "      <th>2</th>\n",
       "      <td>0</td>\n",
       "      <td>29.0</td>\n",
       "      <td>21000.0</td>\n",
       "      <td>0</td>\n",
       "      <td>0</td>\n",
       "    </tr>\n",
       "    <tr>\n",
       "      <th>3</th>\n",
       "      <td>0</td>\n",
       "      <td>21.0</td>\n",
       "      <td>41700.0</td>\n",
       "      <td>2</td>\n",
       "      <td>0</td>\n",
       "    </tr>\n",
       "    <tr>\n",
       "      <th>4</th>\n",
       "      <td>1</td>\n",
       "      <td>28.0</td>\n",
       "      <td>26100.0</td>\n",
       "      <td>0</td>\n",
       "      <td>0</td>\n",
       "    </tr>\n",
       "    <tr>\n",
       "      <th>5</th>\n",
       "      <td>1</td>\n",
       "      <td>43.0</td>\n",
       "      <td>41000.0</td>\n",
       "      <td>2</td>\n",
       "      <td>1</td>\n",
       "    </tr>\n",
       "    <tr>\n",
       "      <th>6</th>\n",
       "      <td>1</td>\n",
       "      <td>39.0</td>\n",
       "      <td>39700.0</td>\n",
       "      <td>2</td>\n",
       "      <td>0</td>\n",
       "    </tr>\n",
       "    <tr>\n",
       "      <th>7</th>\n",
       "      <td>1</td>\n",
       "      <td>25.0</td>\n",
       "      <td>38600.0</td>\n",
       "      <td>4</td>\n",
       "      <td>0</td>\n",
       "    </tr>\n",
       "    <tr>\n",
       "      <th>8</th>\n",
       "      <td>1</td>\n",
       "      <td>36.0</td>\n",
       "      <td>49700.0</td>\n",
       "      <td>1</td>\n",
       "      <td>0</td>\n",
       "    </tr>\n",
       "    <tr>\n",
       "      <th>9</th>\n",
       "      <td>1</td>\n",
       "      <td>32.0</td>\n",
       "      <td>51700.0</td>\n",
       "      <td>1</td>\n",
       "      <td>0</td>\n",
       "    </tr>\n",
       "  </tbody>\n",
       "</table>\n",
       "</div>"
      ],
      "text/plain": [
       "   Пол  Возраст  Зарплата  Члены семьи  Страховые выплаты\n",
       "0    1     41.0   49600.0            1                  0\n",
       "1    0     46.0   38000.0            1                  1\n",
       "2    0     29.0   21000.0            0                  0\n",
       "3    0     21.0   41700.0            2                  0\n",
       "4    1     28.0   26100.0            0                  0\n",
       "5    1     43.0   41000.0            2                  1\n",
       "6    1     39.0   39700.0            2                  0\n",
       "7    1     25.0   38600.0            4                  0\n",
       "8    1     36.0   49700.0            1                  0\n",
       "9    1     32.0   51700.0            1                  0"
      ]
     },
     "execution_count": 3,
     "metadata": {},
     "output_type": "execute_result"
    }
   ],
   "source": [
    "# display first 10 rows\n",
    "data.head(10)"
   ]
  },
  {
   "cell_type": "code",
   "execution_count": 4,
   "metadata": {},
   "outputs": [
    {
     "data": {
      "text/plain": [
       "(5000, 5)"
      ]
     },
     "execution_count": 4,
     "metadata": {},
     "output_type": "execute_result"
    }
   ],
   "source": [
    "# display data shape\n",
    "data.shape"
   ]
  },
  {
   "cell_type": "code",
   "execution_count": 5,
   "metadata": {
    "scrolled": true
   },
   "outputs": [
    {
     "name": "stdout",
     "output_type": "stream",
     "text": [
      "<class 'pandas.core.frame.DataFrame'>\n",
      "RangeIndex: 5000 entries, 0 to 4999\n",
      "Data columns (total 5 columns):\n",
      " #   Column             Non-Null Count  Dtype  \n",
      "---  ------             --------------  -----  \n",
      " 0   Пол                5000 non-null   int64  \n",
      " 1   Возраст            5000 non-null   float64\n",
      " 2   Зарплата           5000 non-null   float64\n",
      " 3   Члены семьи        5000 non-null   int64  \n",
      " 4   Страховые выплаты  5000 non-null   int64  \n",
      "dtypes: float64(2), int64(3)\n",
      "memory usage: 195.4 KB\n"
     ]
    }
   ],
   "source": [
    "# display general information\n",
    "data.info()"
   ]
  },
  {
   "cell_type": "markdown",
   "metadata": {},
   "source": [
    "During the analysis of the data, the following was obtained:\n",
    "\n",
    "1) the table has 5 columns and 5000 rows\n",
    "\n",
    "2) the table has the following columns:\n",
    "\n",
    "    - gender: data type int\n",
    "    - age: float data type\n",
    "    - salary: float data type\n",
    "    - family members: data type int\n",
    "    - insurance payments (their number): data type int"
   ]
  },
  {
   "cell_type": "code",
   "execution_count": 6,
   "metadata": {},
   "outputs": [
    {
     "data": {
      "text/plain": [
       "Index(['Пол', 'Возраст', 'Зарплата', 'Члены семьи', 'Страховые выплаты'], dtype='object')"
      ]
     },
     "execution_count": 6,
     "metadata": {},
     "output_type": "execute_result"
    }
   ],
   "source": [
    "# display column names\n",
    "data.columns"
   ]
  },
  {
   "cell_type": "code",
   "execution_count": 7,
   "metadata": {},
   "outputs": [],
   "source": [
    "# rename the columns in accordance with generally accepted requirements\n",
    "data = data.rename(columns={'Пол': 'gender', 'Возраст': 'age', 'Зарплата': 'salary', 'Члены семьи': 'family_members', 'Страховые выплаты': 'insurance_payments'})"
   ]
  },
  {
   "cell_type": "code",
   "execution_count": 8,
   "metadata": {},
   "outputs": [
    {
     "data": {
      "text/plain": [
       "gender                0\n",
       "age                   0\n",
       "salary                0\n",
       "family_members        0\n",
       "insurance_payments    0\n",
       "dtype: int64"
      ]
     },
     "execution_count": 8,
     "metadata": {},
     "output_type": "execute_result"
    }
   ],
   "source": [
    "# missing values\n",
    "data.isna().sum()"
   ]
  },
  {
   "cell_type": "code",
   "execution_count": 9,
   "metadata": {
    "scrolled": true
   },
   "outputs": [
    {
     "data": {
      "text/plain": [
       "19.0    223\n",
       "25.0    214\n",
       "31.0    212\n",
       "26.0    211\n",
       "27.0    209\n",
       "22.0    209\n",
       "32.0    206\n",
       "28.0    204\n",
       "29.0    203\n",
       "30.0    202\n",
       "23.0    202\n",
       "21.0    200\n",
       "20.0    195\n",
       "36.0    193\n",
       "33.0    191\n",
       "24.0    182\n",
       "35.0    179\n",
       "34.0    177\n",
       "37.0    147\n",
       "39.0    141\n",
       "38.0    139\n",
       "41.0    129\n",
       "18.0    117\n",
       "40.0    114\n",
       "42.0     93\n",
       "43.0     77\n",
       "44.0     74\n",
       "45.0     73\n",
       "46.0     60\n",
       "47.0     47\n",
       "49.0     37\n",
       "50.0     27\n",
       "48.0     26\n",
       "52.0     22\n",
       "51.0     21\n",
       "53.0     11\n",
       "55.0      9\n",
       "54.0      7\n",
       "56.0      5\n",
       "59.0      3\n",
       "60.0      2\n",
       "58.0      2\n",
       "57.0      2\n",
       "65.0      1\n",
       "61.0      1\n",
       "62.0      1\n",
       "Name: age, dtype: int64"
      ]
     },
     "execution_count": 9,
     "metadata": {},
     "output_type": "execute_result"
    }
   ],
   "source": [
    "#  look at the age column\n",
    "data['age'].value_counts()"
   ]
  },
  {
   "cell_type": "code",
   "execution_count": 10,
   "metadata": {},
   "outputs": [
    {
     "data": {
      "text/plain": [
       "0    2505\n",
       "1    2495\n",
       "Name: gender, dtype: int64"
      ]
     },
     "execution_count": 10,
     "metadata": {},
     "output_type": "execute_result"
    }
   ],
   "source": [
    "#  look at the gender column\n",
    "data['gender'].value_counts()"
   ]
  },
  {
   "cell_type": "code",
   "execution_count": 11,
   "metadata": {},
   "outputs": [
    {
     "data": {
      "text/plain": [
       "count     5000.000000\n",
       "mean     39916.360000\n",
       "std       9900.083569\n",
       "min       5300.000000\n",
       "25%      33300.000000\n",
       "50%      40200.000000\n",
       "75%      46600.000000\n",
       "max      79000.000000\n",
       "Name: salary, dtype: float64"
      ]
     },
     "execution_count": 11,
     "metadata": {},
     "output_type": "execute_result"
    }
   ],
   "source": [
    "#  look at the salary column\n",
    "data['salary'].describe()"
   ]
  },
  {
   "cell_type": "code",
   "execution_count": 12,
   "metadata": {},
   "outputs": [
    {
     "data": {
      "text/plain": [
       "1    1814\n",
       "0    1513\n",
       "2    1071\n",
       "3     439\n",
       "4     124\n",
       "5      32\n",
       "6       7\n",
       "Name: family_members, dtype: int64"
      ]
     },
     "execution_count": 12,
     "metadata": {},
     "output_type": "execute_result"
    }
   ],
   "source": [
    "#  look at the family_members column\n",
    "data['family_members'].value_counts()"
   ]
  },
  {
   "cell_type": "code",
   "execution_count": 13,
   "metadata": {},
   "outputs": [
    {
     "data": {
      "text/plain": [
       "0    4436\n",
       "1     423\n",
       "2     115\n",
       "3      18\n",
       "4       7\n",
       "5       1\n",
       "Name: insurance_payments, dtype: int64"
      ]
     },
     "execution_count": 13,
     "metadata": {},
     "output_type": "execute_result"
    }
   ],
   "source": [
    "#  look at the insurance_payments column\n",
    "data['insurance_payments'].value_counts()"
   ]
  },
  {
   "cell_type": "code",
   "execution_count": 14,
   "metadata": {},
   "outputs": [],
   "source": [
    "# change the data type in the Age columnn to int64\n",
    "data['age'] = data['age'].astype('int64')\n",
    "data['salary'] = data['salary'].astype('int64')"
   ]
  },
  {
   "cell_type": "code",
   "execution_count": 15,
   "metadata": {},
   "outputs": [
    {
     "data": {
      "text/plain": [
       "153"
      ]
     },
     "execution_count": 15,
     "metadata": {},
     "output_type": "execute_result"
    }
   ],
   "source": [
    "# display duplicates\n",
    "data.duplicated().sum()"
   ]
  },
  {
   "cell_type": "markdown",
   "metadata": {},
   "source": [
    "There are 153 duplicates in our data. Let's delete them."
   ]
  },
  {
   "cell_type": "code",
   "execution_count": 16,
   "metadata": {},
   "outputs": [],
   "source": [
    "# removal of duplicates\n",
    "data.drop_duplicates(inplace=True)"
   ]
  },
  {
   "cell_type": "code",
   "execution_count": 17,
   "metadata": {},
   "outputs": [
    {
     "name": "stdout",
     "output_type": "stream",
     "text": [
      "<class 'pandas.core.frame.DataFrame'>\n",
      "Int64Index: 4847 entries, 0 to 4999\n",
      "Data columns (total 5 columns):\n",
      " #   Column              Non-Null Count  Dtype\n",
      "---  ------              --------------  -----\n",
      " 0   gender              4847 non-null   int64\n",
      " 1   age                 4847 non-null   int64\n",
      " 2   salary              4847 non-null   int64\n",
      " 3   family_members      4847 non-null   int64\n",
      " 4   insurance_payments  4847 non-null   int64\n",
      "dtypes: int64(5)\n",
      "memory usage: 227.2 KB\n"
     ]
    }
   ],
   "source": [
    "# check removal of duplicates\n",
    "data.info()"
   ]
  },
  {
   "cell_type": "markdown",
   "metadata": {},
   "source": [
    "### Conclusion"
   ]
  },
  {
   "cell_type": "markdown",
   "metadata": {},
   "source": [
    "In the course of this section, we read the data from the file, checked it, and got the following:\n",
    "\n",
    "1) renamed the names of the columns for the convenience of work in the future\n",
    "\n",
    "2) determined the size of the table (5 columns and 4847 rows, after removing duplicates), looked at the composition of the columns (gender, age, salary, family_members, insurance_payments), no errors were found in the data\n",
    "\n",
    "3) no missing values\n",
    "\n",
    "4) changed the data type in the age column, since in this column the age is stored as an integer."
   ]
  },
  {
   "cell_type": "markdown",
   "metadata": {},
   "source": [
    "## Matrix multiplication"
   ]
  },
  {
   "cell_type": "markdown",
   "metadata": {},
   "source": [
    "In this task, we can write formulas in *Jupyter Notebook.*\n",
    "\n",
    "To write a formula inside text, surround it with dollar signs \\\\$; if outside - double symbols \\\\$\\\\$. These formulas are written in the layout language *LaTeX.*\n",
    "\n",
    "For example, we wrote down the linear regression formulas. You can copy and edit them to solve the problem.\n",
    "\n",
    "Working in *LaTeX* is optional."
   ]
  },
  {
   "cell_type": "markdown",
   "metadata": {},
   "source": [
    "Designations:\n",
    "\n",
    "- $X$ - feature matrix (zero column consists of ones)\n",
    "\n",
    "- $y$ — target feature vector\n",
    "\n",
    "- $P$ is the matrix by which features are multiplied\n",
    "\n",
    "- $w$ — vector of linear regression weights (zero element equals shift)"
   ]
  },
  {
   "cell_type": "markdown",
   "metadata": {},
   "source": [
    "Predictions:\n",
    "\n",
    "$$\n",
    "a = Xw\n",
    "$$\n",
    "\n",
    "Learning task:\n",
    "\n",
    "$$\n",
    "w = \\arg\\min_w MSE(Xw, y)\n",
    "$$\n",
    "\n",
    "Learning formula:\n",
    "\n",
    "$$\n",
    "w = (X^T X)^{-1} X^T y\n",
    "$$"
   ]
  },
  {
   "cell_type": "markdown",
   "metadata": {},
   "source": [
    "**Answer:** when multiplying features by an invertible matrix, the quality of linear regression does not change\n",
    "\n",
    "**Rationale:** Let's justify this statement by the formula for calculating the weights for linear regression.\n",
    "In order to correctly solve this formula, we clarify the main properties of matrices:\n",
    "\n",
    "1) $(AB)^{-1} = (B)^{-1}(A)^{-1}$\n",
    "\n",
    "2) $(AB)^T = B^T A^T$\n",
    "\n",
    "3) $AA^{-1} = E$\n",
    "\n",
    "Predictions:\n",
    "\n",
    "$$\n",
    "a = Xw\n",
    "$$\n",
    "\n",
    "Linear regression weight vector:\n",
    "\n",
    "$$\n",
    "w = (X^T X)^{-1}X^T y\n",
    "$$\n",
    "\n",
    "Let us represent the new feature matrix X1 as the product of the original feature matrix X by the invertible matrix P:\n",
    "\n",
    "$$\n",
    "X1=XP\n",
    "$$\n",
    "\n",
    "Next, we substitute the obtained value of X1 into the vector of weights of the linear regression w1:\n",
    "\n",
    "$$\n",
    "w1 = ((XP)^T(XP))^{-1}(XP)^Ty\n",
    "$$\n",
    "\n",
    "We will expand the brackets gradually in accordance with the above properties of matrices. First, let's expand the first bracket $(XP)^Y$:\n",
    "\n",
    "$$\n",
    "w1 = (P^T X^T XP)^{-1}(XP)^Ty\n",
    "$$\n",
    "\n",
    "For clarity, we regroup the factors in brackets:\n",
    "\n",
    "$$\n",
    "w1 = (P^T(X^T X)P)^{-1}(XP)^Ty\n",
    "$$\n",
    "\n",
    "In accordance with the properties of matrices, expand the brackets $(P^T(X^TX)P)^{-1}$:\n",
    "\n",
    "$$\n",
    "w1 = P^{-1}(X^TX)^{-1}(P^T)^{-1}(XP)^Ty\n",
    "$$\n",
    "\n",
    "Expand the last bracket $(XP)^T$:\n",
    "\n",
    "$$\n",
    "w1 = P^{-1}(X^TX)^{-1}(P^T)^{-1}P^TX^Ty\n",
    "$$\n",
    "\n",
    "\n",
    "Since, according to the condition of the problem, the matrix P is invertible, then, based on the property of matrices number 3, indicated above. That is, the product of a matrix and an invertible matrix must be equal to the identity matrix E. We get that $(P^T)^{-1}P^T = E$. Let's transform our expression:\n",
    "\n",
    "$$\n",
    "w1 = P^{-1}(X^TX)^{-1}EX^Ty = P^{-1}(X^TX)^{-1}X^Ty\n",
    "$$\n",
    "\n",
    "As we can see, in this formula we have obtained the formula for the linear regression weight vector $w = (X^T X)^{-1}X^T y$, so we get:\n",
    "\n",
    "$$\n",
    "P^{-1}(X^TX)^{-1}X^Ty = P^{-1}w\n",
    "$$\n",
    "\n",
    "If we substitute the values X1 and w1 into the prediction formula a, then we get the following prediction a1 for the new model:\n",
    "\n",
    "$$\n",
    "a1 = X1w1 = XPP^{-1}w\n",
    "$$\n",
    "\n",
    "Since P is invertible by the condition of the problem, then, based on the properties of matrices, we can replace the expression $PP^{-1}$ with the identity matrix E, then:\n",
    "\n",
    "$$\n",
    "a1 = XPP^{-1} = XEw = Xw = a\n",
    "$$\n",
    "\n",
    "Thus, we have proved that the predictions a1 for the feature matrix, multiplied by the invertible matrix P, are equal to the predictions a. Based on this, we can conclude that when the features are multiplied by an invertible matrix, the quality of the linear regression model will not change. Thus, we can develop an algorithm for encrypting customers' personal data."
   ]
  },
  {
   "cell_type": "markdown",
   "metadata": {},
   "source": [
    "## Conversion algorithm"
   ]
  },
  {
   "cell_type": "markdown",
   "metadata": {},
   "source": [
    "**Algorithm**\n",
    "\n",
    "The following algorithm can be proposed as a transformation algorithm:\n",
    "\n",
    "1) split the data for training\n",
    "\n",
    "2) create a random matrix, check it for invertibility\n",
    "\n",
    "3) train the model on the original matrix and calculate the value of r2_score\n",
    "\n",
    "4) multiply the random matrix by the features of the original matrix\n",
    "\n",
    "5) train the model on the obtained features and calculate the value of r2_score\n",
    "\n",
    "6) compare the obtained metrics with each other.\n",
    "\n",
    "If the characteristics of r2_score are the same, then this algorithm can be used to encrypt client data."
   ]
  },
  {
   "cell_type": "markdown",
   "metadata": {},
   "source": [
    "**Rationale**\n",
    "\n",
    "Based on the theoretical proof of the formula above, we can assume that due to the proposed transformation algorithm, we should get similar metric values. To confirm our hypothesis, we will compare the r2_score of the original matrix and the r2_score of the random matrix (encrypted features) with each other. If the values do not differ or differ slightly, then we will confirm the proof of the formula above. This will mean that the algorithm we have developed can be used to encrypt data."
   ]
  },
  {
   "cell_type": "markdown",
   "metadata": {},
   "source": [
    "## Algorithm verification"
   ]
  },
  {
   "cell_type": "code",
   "execution_count": 18,
   "metadata": {},
   "outputs": [],
   "source": [
    "# split the data\n",
    "features = data.drop('insurance_payments', axis=1)\n",
    "target = data['insurance_payments']"
   ]
  },
  {
   "cell_type": "code",
   "execution_count": 19,
   "metadata": {},
   "outputs": [],
   "source": [
    "# split the resulting sample into training and test\n",
    "features_train, features_test, target_train, target_test = train_test_split(features, target, test_size=0.25, random_state=12345)"
   ]
  },
  {
   "cell_type": "code",
   "execution_count": 20,
   "metadata": {},
   "outputs": [
    {
     "name": "stdout",
     "output_type": "stream",
     "text": [
      "Обучающая выборка: (3635, 4), (3635,)\n",
      "Тестовая выборка: (1212, 4), (1212,)\n"
     ]
    }
   ],
   "source": [
    "# check that the sizes of features and target features in the samples are the same\n",
    "print(f'Обучающая выборка: {features_train.shape}, {target_train.shape}')\n",
    "print(f'Тестовая выборка: {features_test.shape}, {target_test.shape}')"
   ]
  },
  {
   "cell_type": "code",
   "execution_count": 21,
   "metadata": {},
   "outputs": [],
   "source": [
    "# create a random matrix\n",
    "matrix = np.random.normal(size = (features.shape[1], features.shape[1]))"
   ]
  },
  {
   "cell_type": "code",
   "execution_count": 22,
   "metadata": {},
   "outputs": [],
   "source": [
    "# check it for reversibility\n",
    "matrix = np.linalg.inv(matrix)"
   ]
  },
  {
   "cell_type": "raw",
   "metadata": {},
   "source": [
    "def generate_invertible_matrix(size):\n",
    "    try:\n",
    "        matrix = np.random.normal(size=(size, size))\n",
    "        # проверим матрицу на обратимость, если нет, пробуем сгенерировать еще раз\n",
    "        # таким образом гарантируем, что матрица стопроцентно будет обратимой\n",
    "        np.linalg.inv(matrix)\n",
    "    except np.linalg.LinAlgError:\n",
    "        matrix = generate_invertible_matrix()\n",
    "    \n",
    "    return matrix"
   ]
  },
  {
   "cell_type": "code",
   "execution_count": 23,
   "metadata": {},
   "outputs": [
    {
     "name": "stdout",
     "output_type": "stream",
     "text": [
      "r2_score на исходных, незашифрованных признаках: 0.43215820265809746\n"
     ]
    }
   ],
   "source": [
    "# train the model on the original, unencrypted features\n",
    "model = LinearRegression()\n",
    "model.fit(features_train, target_train)\n",
    "predictions_train = model.predict(features_train)\n",
    "r2_score_train = r2_score(target_train, predictions_train)\n",
    "print(f'r2_score на исходных, незашифрованных признаках: {r2_score_train}')"
   ]
  },
  {
   "cell_type": "code",
   "execution_count": 24,
   "metadata": {},
   "outputs": [],
   "source": [
    "# multiply the original matrix by a random one \n",
    "transform_features_train = features_train @ matrix"
   ]
  },
  {
   "cell_type": "code",
   "execution_count": 25,
   "metadata": {},
   "outputs": [
    {
     "name": "stdout",
     "output_type": "stream",
     "text": [
      "r2_score на новых, зашифрованных признаках: 0.43215820265810523\n"
     ]
    }
   ],
   "source": [
    "# train the model on new, encrypted features\n",
    "model.fit(transform_features_train, target_train)\n",
    "predictions_train_transform = model.predict(transform_features_train)\n",
    "r2_score_train_transform = r2_score(target_train, predictions_train_transform)\n",
    "print(f'r2_score на новых, зашифрованных признаках: {r2_score_train_transform}')"
   ]
  },
  {
   "cell_type": "code",
   "execution_count": 26,
   "metadata": {},
   "outputs": [
    {
     "name": "stdout",
     "output_type": "stream",
     "text": [
      "Разность между признаками -7.771561172376096e-15\n"
     ]
    }
   ],
   "source": [
    "# determine if there is a difference between the received data\n",
    "print('Разность между признаками', r2_score_train - r2_score_train_transform)"
   ]
  },
  {
   "cell_type": "markdown",
   "metadata": {},
   "source": [
    "**Conclusion:** as we can see, there is practically no difference between the features of the original and the matrix obtained by multiplying by a random matrix (invertible matrix). This suggests that in practice we have confirmed the theoretical proof that when multiplying features by an invertible matrix, the quality of linear regression does not change."
   ]
  },
  {
   "cell_type": "markdown",
   "metadata": {},
   "source": [
    "###  Checking on a test set"
   ]
  },
  {
   "cell_type": "markdown",
   "metadata": {},
   "source": [
    "Let's test our models on a test set."
   ]
  },
  {
   "cell_type": "code",
   "execution_count": 27,
   "metadata": {},
   "outputs": [
    {
     "name": "stdout",
     "output_type": "stream",
     "text": [
      "r2_score на исходных, незашифрованных признаках: 0.425552801076332\n"
     ]
    }
   ],
   "source": [
    "model = LinearRegression()\n",
    "model.fit(features_test, target_test)\n",
    "predictions_test = model.predict(features_test)\n",
    "r2_score_test = r2_score(target_test, predictions_test)\n",
    "print(f'r2_score на исходных, незашифрованных признаках: {r2_score_test}')"
   ]
  },
  {
   "cell_type": "code",
   "execution_count": 28,
   "metadata": {},
   "outputs": [],
   "source": [
    "# multiply the original matrix by a random one \n",
    "transform_features_test = features_test @ matrix"
   ]
  },
  {
   "cell_type": "code",
   "execution_count": 29,
   "metadata": {},
   "outputs": [
    {
     "name": "stdout",
     "output_type": "stream",
     "text": [
      "r2_score на новых, зашифрованных признаках: 0.4255528010763243\n"
     ]
    }
   ],
   "source": [
    "# train the model on new, encrypted features\n",
    "model.fit(transform_features_test, target_test)\n",
    "predictions_test_transform = model.predict(transform_features_test)\n",
    "r2_score_test_transform = r2_score(target_test, predictions_test_transform)\n",
    "print(f'r2_score на новых, зашифрованных признаках: {r2_score_test_transform}')"
   ]
  },
  {
   "cell_type": "code",
   "execution_count": 30,
   "metadata": {},
   "outputs": [
    {
     "name": "stdout",
     "output_type": "stream",
     "text": [
      "Разность между признаками 7.66053886991358e-15\n"
     ]
    }
   ],
   "source": [
    "# determine if there is a difference between the received data\n",
    "print('Разность между признаками', r2_score_test - r2_score_test_transform)"
   ]
  },
  {
   "cell_type": "markdown",
   "metadata": {},
   "source": [
    "As we can see, on the test sample, we got similar r2_score values and a similar difference between the indicators. Thus, we once again confirmed that when the features are multiplied by an invertible matrix, the quality of the linear regression does not change. Our algorithm can be used to encrypt customer data"
   ]
  },
  {
   "cell_type": "markdown",
   "metadata": {},
   "source": [
    "## General conclusion"
   ]
  },
  {
   "cell_type": "markdown",
   "metadata": {},
   "source": [
    "During the course of our work, we:\n",
    "\n",
    "1) analyzed the data, saw that the data was in order, with the exception of duplicates, which were eliminated\n",
    "\n",
    "2) put forward the assumption that when multiplying features by an invertible matrix, the quality of linear regression does not change\n",
    "\n",
    "3) theoretically proved the correctness of this statement\n",
    "\n",
    "4) developed an algorithm on the basis of which it is possible to practically prove the correctness of the statement\n",
    "\n",
    "5) prepared data for training models\n",
    "\n",
    "6) trained the models and checked the behavior of the model, when multiplying the original features by a random invertible matrix\n",
    "\n",
    "7) received the same data and thus proved in practice that when the features are multiplied by an invertible matrix, the quality of the linear regression does not change\n",
    "\n",
    "8) on the test sample, we checked the correctness of our calculations and evidence\n",
    "\n",
    "Thus, when multiplying the features by an invertible matrix, the quality of the linear regression does not change and the algorithm developed by us can be used to encrypt customer data"
   ]
  },
  {
   "cell_type": "code",
   "execution_count": null,
   "metadata": {},
   "outputs": [],
   "source": []
  }
 ],
 "metadata": {
  "ExecuteTimeLog": [
   {
    "duration": 487,
    "start_time": "2022-04-29T21:30:48.619Z"
   },
   {
    "duration": 115,
    "start_time": "2022-04-29T21:31:39.759Z"
   },
   {
    "duration": 15,
    "start_time": "2022-04-29T21:31:54.227Z"
   },
   {
    "duration": 29,
    "start_time": "2022-04-29T21:31:58.599Z"
   },
   {
    "duration": 14,
    "start_time": "2022-04-29T21:32:06.227Z"
   },
   {
    "duration": 5,
    "start_time": "2022-04-29T21:32:18.607Z"
   },
   {
    "duration": 18,
    "start_time": "2022-04-29T21:32:24.667Z"
   },
   {
    "duration": 8,
    "start_time": "2022-04-29T21:32:37.587Z"
   },
   {
    "duration": 9,
    "start_time": "2022-04-29T21:33:25.520Z"
   },
   {
    "duration": 371,
    "start_time": "2022-05-02T20:44:17.937Z"
   },
   {
    "duration": 16,
    "start_time": "2022-05-02T20:44:18.310Z"
   },
   {
    "duration": 14,
    "start_time": "2022-05-02T20:44:18.328Z"
   },
   {
    "duration": 5,
    "start_time": "2022-05-02T20:44:18.343Z"
   },
   {
    "duration": 10,
    "start_time": "2022-05-02T20:44:18.349Z"
   },
   {
    "duration": 5,
    "start_time": "2022-05-02T20:44:18.360Z"
   },
   {
    "duration": 6,
    "start_time": "2022-05-02T20:44:18.366Z"
   },
   {
    "duration": 13,
    "start_time": "2022-05-02T20:44:18.373Z"
   },
   {
    "duration": 3,
    "start_time": "2022-05-02T20:45:13.947Z"
   },
   {
    "duration": 13,
    "start_time": "2022-05-02T20:49:58.387Z"
   },
   {
    "duration": 2086,
    "start_time": "2022-05-02T20:50:44.109Z"
   },
   {
    "duration": 6,
    "start_time": "2022-05-02T20:51:00.734Z"
   },
   {
    "duration": 1954,
    "start_time": "2022-05-02T20:51:00.877Z"
   },
   {
    "duration": 0,
    "start_time": "2022-05-02T20:51:02.834Z"
   },
   {
    "duration": 12,
    "start_time": "2022-05-02T20:51:16.320Z"
   },
   {
    "duration": 4,
    "start_time": "2022-05-02T20:51:30.738Z"
   },
   {
    "duration": 6,
    "start_time": "2022-05-02T20:51:33.054Z"
   },
   {
    "duration": 11,
    "start_time": "2022-05-02T20:51:34.803Z"
   },
   {
    "duration": 7,
    "start_time": "2022-05-02T20:51:40.137Z"
   },
   {
    "duration": 3,
    "start_time": "2022-05-02T20:51:43.732Z"
   },
   {
    "duration": 11,
    "start_time": "2022-05-02T20:51:48.983Z"
   },
   {
    "duration": 5,
    "start_time": "2022-05-02T21:01:34.982Z"
   },
   {
    "duration": 8,
    "start_time": "2022-05-02T21:01:58.623Z"
   },
   {
    "duration": 5,
    "start_time": "2022-05-02T21:02:31.668Z"
   },
   {
    "duration": 10,
    "start_time": "2022-05-02T21:03:14.773Z"
   },
   {
    "duration": 5,
    "start_time": "2022-05-02T21:03:33.296Z"
   },
   {
    "duration": 6,
    "start_time": "2022-05-02T22:14:06.677Z"
   },
   {
    "duration": 6,
    "start_time": "2022-05-02T22:15:11.948Z"
   },
   {
    "duration": 14,
    "start_time": "2022-05-02T22:15:21.668Z"
   },
   {
    "duration": 555,
    "start_time": "2022-05-03T21:39:14.818Z"
   },
   {
    "duration": 25,
    "start_time": "2022-05-03T21:39:15.376Z"
   },
   {
    "duration": 39,
    "start_time": "2022-05-03T21:39:15.403Z"
   },
   {
    "duration": 7,
    "start_time": "2022-05-03T21:39:15.445Z"
   },
   {
    "duration": 17,
    "start_time": "2022-05-03T21:39:15.456Z"
   },
   {
    "duration": 5,
    "start_time": "2022-05-03T21:39:15.475Z"
   },
   {
    "duration": 51,
    "start_time": "2022-05-03T21:39:15.482Z"
   },
   {
    "duration": 13,
    "start_time": "2022-05-03T21:39:15.537Z"
   },
   {
    "duration": 13,
    "start_time": "2022-05-03T21:39:15.552Z"
   },
   {
    "duration": 11,
    "start_time": "2022-05-03T21:39:15.567Z"
   },
   {
    "duration": 11,
    "start_time": "2022-05-03T21:39:15.580Z"
   },
   {
    "duration": 14,
    "start_time": "2022-05-03T21:39:15.626Z"
   },
   {
    "duration": 11,
    "start_time": "2022-05-03T21:39:15.642Z"
   },
   {
    "duration": 7,
    "start_time": "2022-05-03T21:39:15.656Z"
   },
   {
    "duration": 11,
    "start_time": "2022-05-03T21:39:15.665Z"
   },
   {
    "duration": 11,
    "start_time": "2022-05-03T21:39:15.678Z"
   },
   {
    "duration": 50,
    "start_time": "2022-05-03T21:39:15.692Z"
   },
   {
    "duration": 136,
    "start_time": "2022-05-03T21:39:15.744Z"
   },
   {
    "duration": 5,
    "start_time": "2022-05-03T21:39:48.717Z"
   },
   {
    "duration": 10,
    "start_time": "2022-05-03T21:42:32.743Z"
   },
   {
    "duration": 1098,
    "start_time": "2022-05-03T21:43:56.965Z"
   },
   {
    "duration": 4,
    "start_time": "2022-05-03T21:44:30.203Z"
   },
   {
    "duration": 5,
    "start_time": "2022-05-03T21:44:36.578Z"
   },
   {
    "duration": 14,
    "start_time": "2022-05-03T21:49:46.458Z"
   },
   {
    "duration": 6,
    "start_time": "2022-05-03T21:50:57.224Z"
   },
   {
    "duration": 59,
    "start_time": "2022-05-03T21:52:13.073Z"
   },
   {
    "duration": 6,
    "start_time": "2022-05-03T21:53:14.009Z"
   },
   {
    "duration": 16,
    "start_time": "2022-05-03T21:53:20.333Z"
   },
   {
    "duration": 73,
    "start_time": "2022-05-03T21:53:26.054Z"
   },
   {
    "duration": 1554,
    "start_time": "2022-05-03T21:53:38.172Z"
   },
   {
    "duration": 16,
    "start_time": "2022-05-03T21:53:39.729Z"
   },
   {
    "duration": 25,
    "start_time": "2022-05-03T21:53:39.747Z"
   },
   {
    "duration": 7,
    "start_time": "2022-05-03T21:53:39.775Z"
   },
   {
    "duration": 18,
    "start_time": "2022-05-03T21:53:39.784Z"
   },
   {
    "duration": 6,
    "start_time": "2022-05-03T21:53:39.825Z"
   },
   {
    "duration": 8,
    "start_time": "2022-05-03T21:53:39.833Z"
   },
   {
    "duration": 15,
    "start_time": "2022-05-03T21:53:39.843Z"
   },
   {
    "duration": 12,
    "start_time": "2022-05-03T21:53:39.860Z"
   },
   {
    "duration": 8,
    "start_time": "2022-05-03T21:53:39.875Z"
   },
   {
    "duration": 43,
    "start_time": "2022-05-03T21:53:39.885Z"
   },
   {
    "duration": 10,
    "start_time": "2022-05-03T21:53:39.930Z"
   },
   {
    "duration": 9,
    "start_time": "2022-05-03T21:53:39.942Z"
   },
   {
    "duration": 9,
    "start_time": "2022-05-03T21:53:39.953Z"
   },
   {
    "duration": 9,
    "start_time": "2022-05-03T21:53:39.965Z"
   },
   {
    "duration": 7,
    "start_time": "2022-05-03T21:53:39.976Z"
   },
   {
    "duration": 14,
    "start_time": "2022-05-03T21:53:40.025Z"
   },
   {
    "duration": 10,
    "start_time": "2022-05-03T21:53:40.042Z"
   },
   {
    "duration": 8,
    "start_time": "2022-05-03T21:53:40.054Z"
   },
   {
    "duration": 75,
    "start_time": "2022-05-03T21:53:40.064Z"
   },
   {
    "duration": 5,
    "start_time": "2022-05-03T21:53:40.227Z"
   },
   {
    "duration": 419,
    "start_time": "2022-05-03T21:53:40.234Z"
   },
   {
    "duration": 7,
    "start_time": "2022-05-03T21:54:36.749Z"
   },
   {
    "duration": 13,
    "start_time": "2022-05-03T21:54:51.324Z"
   },
   {
    "duration": 6,
    "start_time": "2022-05-03T21:55:17.804Z"
   },
   {
    "duration": 367,
    "start_time": "2022-05-03T21:57:55.222Z"
   },
   {
    "duration": 5,
    "start_time": "2022-05-03T22:02:25.022Z"
   },
   {
    "duration": 6,
    "start_time": "2022-05-03T22:02:31.746Z"
   },
   {
    "duration": 5,
    "start_time": "2022-05-03T22:04:42.404Z"
   },
   {
    "duration": 6,
    "start_time": "2022-05-03T22:04:47.786Z"
   },
   {
    "duration": 3,
    "start_time": "2022-05-03T22:06:59.992Z"
   },
   {
    "duration": 6,
    "start_time": "2022-05-03T22:07:12.969Z"
   },
   {
    "duration": 5,
    "start_time": "2022-05-03T22:07:45.943Z"
   },
   {
    "duration": 6,
    "start_time": "2022-05-03T22:07:50.957Z"
   },
   {
    "duration": 4,
    "start_time": "2022-05-03T22:08:17.325Z"
   },
   {
    "duration": 6,
    "start_time": "2022-05-03T22:08:22.234Z"
   },
   {
    "duration": 95,
    "start_time": "2022-05-03T22:08:27.132Z"
   },
   {
    "duration": 4,
    "start_time": "2022-05-03T22:09:03.091Z"
   },
   {
    "duration": 17,
    "start_time": "2022-05-03T22:09:03.978Z"
   },
   {
    "duration": 15,
    "start_time": "2022-05-03T22:09:07.115Z"
   },
   {
    "duration": 6,
    "start_time": "2022-05-03T22:09:09.370Z"
   },
   {
    "duration": 30,
    "start_time": "2022-05-03T22:09:10.606Z"
   },
   {
    "duration": 4,
    "start_time": "2022-05-03T22:30:14.792Z"
   },
   {
    "duration": 20,
    "start_time": "2022-05-03T22:30:15.865Z"
   },
   {
    "duration": 20,
    "start_time": "2022-05-03T22:30:22.308Z"
   },
   {
    "duration": 6,
    "start_time": "2022-05-03T22:30:29.932Z"
   },
   {
    "duration": 14,
    "start_time": "2022-05-03T22:37:21.846Z"
   },
   {
    "duration": 14,
    "start_time": "2022-05-03T22:37:28.064Z"
   },
   {
    "duration": 4,
    "start_time": "2022-05-03T22:38:40.276Z"
   },
   {
    "duration": 11,
    "start_time": "2022-05-03T22:38:48.232Z"
   },
   {
    "duration": 7,
    "start_time": "2022-05-03T22:39:12.509Z"
   },
   {
    "duration": 173,
    "start_time": "2022-05-03T22:39:43.263Z"
   },
   {
    "duration": 5,
    "start_time": "2022-05-03T22:40:36.376Z"
   },
   {
    "duration": 6,
    "start_time": "2022-05-03T22:40:37.365Z"
   },
   {
    "duration": 5,
    "start_time": "2022-05-03T22:40:50.527Z"
   },
   {
    "duration": 7,
    "start_time": "2022-05-03T22:41:10.298Z"
   },
   {
    "duration": 27,
    "start_time": "2022-05-03T22:41:31.199Z"
   },
   {
    "duration": 5,
    "start_time": "2022-05-03T22:42:15.017Z"
   },
   {
    "duration": 6,
    "start_time": "2022-05-03T22:48:50.772Z"
   },
   {
    "duration": 4,
    "start_time": "2022-05-03T22:49:49.692Z"
   },
   {
    "duration": 12,
    "start_time": "2022-05-03T22:49:53.515Z"
   },
   {
    "duration": 186,
    "start_time": "2022-05-03T22:49:53.641Z"
   },
   {
    "duration": 38,
    "start_time": "2022-05-03T22:51:52.287Z"
   },
   {
    "duration": 19,
    "start_time": "2022-05-03T22:52:36.332Z"
   },
   {
    "duration": 6,
    "start_time": "2022-05-03T22:53:20.404Z"
   },
   {
    "duration": 9,
    "start_time": "2022-05-03T22:53:38.084Z"
   },
   {
    "duration": 8,
    "start_time": "2022-05-03T22:54:08.341Z"
   },
   {
    "duration": 206,
    "start_time": "2022-05-03T22:57:21.121Z"
   },
   {
    "duration": 1672,
    "start_time": "2022-05-03T22:58:05.172Z"
   },
   {
    "duration": 18,
    "start_time": "2022-05-03T22:58:06.848Z"
   },
   {
    "duration": 33,
    "start_time": "2022-05-03T22:58:06.869Z"
   },
   {
    "duration": 31,
    "start_time": "2022-05-03T22:58:06.906Z"
   },
   {
    "duration": 27,
    "start_time": "2022-05-03T22:58:06.939Z"
   },
   {
    "duration": 10,
    "start_time": "2022-05-03T22:58:06.969Z"
   },
   {
    "duration": 9,
    "start_time": "2022-05-03T22:58:06.981Z"
   },
   {
    "duration": 12,
    "start_time": "2022-05-03T22:58:06.993Z"
   },
   {
    "duration": 15,
    "start_time": "2022-05-03T22:58:07.023Z"
   },
   {
    "duration": 15,
    "start_time": "2022-05-03T22:58:07.044Z"
   },
   {
    "duration": 19,
    "start_time": "2022-05-03T22:58:07.062Z"
   },
   {
    "duration": 9,
    "start_time": "2022-05-03T22:58:07.084Z"
   },
   {
    "duration": 12,
    "start_time": "2022-05-03T22:58:07.132Z"
   },
   {
    "duration": 18,
    "start_time": "2022-05-03T22:58:07.147Z"
   },
   {
    "duration": 12,
    "start_time": "2022-05-03T22:58:07.168Z"
   },
   {
    "duration": 8,
    "start_time": "2022-05-03T22:58:07.183Z"
   },
   {
    "duration": 43,
    "start_time": "2022-05-03T22:58:07.194Z"
   },
   {
    "duration": 12,
    "start_time": "2022-05-03T22:58:07.240Z"
   },
   {
    "duration": 8,
    "start_time": "2022-05-03T22:58:07.255Z"
   },
   {
    "duration": 6,
    "start_time": "2022-05-03T22:58:07.266Z"
   },
   {
    "duration": 6,
    "start_time": "2022-05-03T22:58:07.274Z"
   },
   {
    "duration": 48,
    "start_time": "2022-05-03T22:58:07.282Z"
   },
   {
    "duration": 5,
    "start_time": "2022-05-03T22:58:07.333Z"
   },
   {
    "duration": 89,
    "start_time": "2022-05-03T22:58:07.340Z"
   },
   {
    "duration": 96,
    "start_time": "2022-05-03T22:58:07.433Z"
   },
   {
    "duration": 19,
    "start_time": "2022-05-03T22:58:07.532Z"
   },
   {
    "duration": 8,
    "start_time": "2022-05-03T22:58:07.554Z"
   },
   {
    "duration": 296,
    "start_time": "2022-05-03T22:58:07.568Z"
   },
   {
    "duration": 0,
    "start_time": "2022-05-03T22:58:07.867Z"
   },
   {
    "duration": 0,
    "start_time": "2022-05-03T22:58:07.869Z"
   },
   {
    "duration": 0,
    "start_time": "2022-05-03T22:58:07.870Z"
   },
   {
    "duration": 0,
    "start_time": "2022-05-03T22:58:07.872Z"
   },
   {
    "duration": 6,
    "start_time": "2022-05-03T22:58:44.474Z"
   },
   {
    "duration": 6,
    "start_time": "2022-05-03T22:58:45.170Z"
   },
   {
    "duration": 8,
    "start_time": "2022-05-03T22:58:46.636Z"
   },
   {
    "duration": 13,
    "start_time": "2022-05-03T22:59:08.148Z"
   },
   {
    "duration": 7,
    "start_time": "2022-05-03T22:59:28.736Z"
   },
   {
    "duration": 3,
    "start_time": "2022-05-03T23:04:08.313Z"
   },
   {
    "duration": 4,
    "start_time": "2022-05-03T23:04:08.488Z"
   },
   {
    "duration": 212,
    "start_time": "2022-05-03T23:04:08.712Z"
   },
   {
    "duration": 14,
    "start_time": "2022-05-03T23:05:10.006Z"
   },
   {
    "duration": 16,
    "start_time": "2022-05-03T23:05:21.065Z"
   },
   {
    "duration": 7,
    "start_time": "2022-05-03T23:05:32.400Z"
   },
   {
    "duration": 1536,
    "start_time": "2022-05-03T23:06:11.018Z"
   },
   {
    "duration": 15,
    "start_time": "2022-05-03T23:06:12.557Z"
   },
   {
    "duration": 24,
    "start_time": "2022-05-03T23:06:12.574Z"
   },
   {
    "duration": 4,
    "start_time": "2022-05-03T23:06:12.601Z"
   },
   {
    "duration": 29,
    "start_time": "2022-05-03T23:06:12.608Z"
   },
   {
    "duration": 9,
    "start_time": "2022-05-03T23:06:12.640Z"
   },
   {
    "duration": 8,
    "start_time": "2022-05-03T23:06:12.651Z"
   },
   {
    "duration": 11,
    "start_time": "2022-05-03T23:06:12.661Z"
   },
   {
    "duration": 12,
    "start_time": "2022-05-03T23:06:12.674Z"
   },
   {
    "duration": 45,
    "start_time": "2022-05-03T23:06:12.688Z"
   },
   {
    "duration": 19,
    "start_time": "2022-05-03T23:06:12.735Z"
   },
   {
    "duration": 7,
    "start_time": "2022-05-03T23:06:12.757Z"
   },
   {
    "duration": 15,
    "start_time": "2022-05-03T23:06:12.765Z"
   },
   {
    "duration": 6,
    "start_time": "2022-05-03T23:06:12.785Z"
   },
   {
    "duration": 44,
    "start_time": "2022-05-03T23:06:12.793Z"
   },
   {
    "duration": 13,
    "start_time": "2022-05-03T23:06:12.839Z"
   },
   {
    "duration": 14,
    "start_time": "2022-05-03T23:06:12.855Z"
   },
   {
    "duration": 8,
    "start_time": "2022-05-03T23:06:12.871Z"
   },
   {
    "duration": 5,
    "start_time": "2022-05-03T23:06:12.882Z"
   },
   {
    "duration": 177,
    "start_time": "2022-05-03T23:06:12.889Z"
   },
   {
    "duration": 0,
    "start_time": "2022-05-03T23:06:13.068Z"
   },
   {
    "duration": 0,
    "start_time": "2022-05-03T23:06:13.069Z"
   },
   {
    "duration": 0,
    "start_time": "2022-05-03T23:06:13.071Z"
   },
   {
    "duration": 0,
    "start_time": "2022-05-03T23:06:13.073Z"
   },
   {
    "duration": 0,
    "start_time": "2022-05-03T23:06:13.074Z"
   },
   {
    "duration": 0,
    "start_time": "2022-05-03T23:06:13.075Z"
   },
   {
    "duration": 0,
    "start_time": "2022-05-03T23:06:13.078Z"
   },
   {
    "duration": 0,
    "start_time": "2022-05-03T23:06:13.079Z"
   },
   {
    "duration": 0,
    "start_time": "2022-05-03T23:06:13.080Z"
   },
   {
    "duration": 0,
    "start_time": "2022-05-03T23:06:13.082Z"
   },
   {
    "duration": 0,
    "start_time": "2022-05-03T23:06:13.084Z"
   },
   {
    "duration": 0,
    "start_time": "2022-05-03T23:06:13.086Z"
   },
   {
    "duration": 0,
    "start_time": "2022-05-03T23:06:13.087Z"
   },
   {
    "duration": 0,
    "start_time": "2022-05-03T23:06:13.128Z"
   },
   {
    "duration": 0,
    "start_time": "2022-05-03T23:06:13.129Z"
   },
   {
    "duration": 0,
    "start_time": "2022-05-03T23:06:13.130Z"
   },
   {
    "duration": 0,
    "start_time": "2022-05-03T23:06:13.132Z"
   },
   {
    "duration": 0,
    "start_time": "2022-05-03T23:06:13.141Z"
   },
   {
    "duration": 0,
    "start_time": "2022-05-03T23:06:13.142Z"
   },
   {
    "duration": 4,
    "start_time": "2022-05-03T23:06:31.880Z"
   },
   {
    "duration": 4,
    "start_time": "2022-05-03T23:06:32.648Z"
   },
   {
    "duration": 25,
    "start_time": "2022-05-03T23:06:33.273Z"
   },
   {
    "duration": 13,
    "start_time": "2022-05-03T23:06:35.675Z"
   },
   {
    "duration": 3,
    "start_time": "2022-05-03T23:06:58.660Z"
   },
   {
    "duration": 15,
    "start_time": "2022-05-03T23:07:12.574Z"
   },
   {
    "duration": 7,
    "start_time": "2022-05-03T23:07:51.875Z"
   },
   {
    "duration": 6,
    "start_time": "2022-05-03T23:07:55.275Z"
   },
   {
    "duration": 6,
    "start_time": "2022-05-03T23:07:56.207Z"
   },
   {
    "duration": 6,
    "start_time": "2022-05-03T23:07:56.389Z"
   },
   {
    "duration": 5,
    "start_time": "2022-05-03T23:07:56.594Z"
   },
   {
    "duration": 3,
    "start_time": "2022-05-03T23:07:56.811Z"
   },
   {
    "duration": 109,
    "start_time": "2022-05-03T23:08:07.438Z"
   },
   {
    "duration": 4,
    "start_time": "2022-05-03T23:08:09.622Z"
   },
   {
    "duration": 5,
    "start_time": "2022-05-03T23:08:20.238Z"
   },
   {
    "duration": 5,
    "start_time": "2022-05-03T23:08:25.226Z"
   },
   {
    "duration": 135,
    "start_time": "2022-05-03T23:08:34.620Z"
   },
   {
    "duration": 33,
    "start_time": "2022-05-03T23:08:47.057Z"
   },
   {
    "duration": 116,
    "start_time": "2022-05-03T23:10:14.166Z"
   },
   {
    "duration": 4,
    "start_time": "2022-05-03T23:10:21.557Z"
   },
   {
    "duration": 4,
    "start_time": "2022-05-03T23:10:22.748Z"
   },
   {
    "duration": 178,
    "start_time": "2022-05-03T23:10:24.964Z"
   },
   {
    "duration": 1941,
    "start_time": "2022-05-03T23:11:02.064Z"
   },
   {
    "duration": 21,
    "start_time": "2022-05-03T23:11:04.007Z"
   },
   {
    "duration": 29,
    "start_time": "2022-05-03T23:11:04.031Z"
   },
   {
    "duration": 6,
    "start_time": "2022-05-03T23:11:04.064Z"
   },
   {
    "duration": 23,
    "start_time": "2022-05-03T23:11:04.072Z"
   },
   {
    "duration": 9,
    "start_time": "2022-05-03T23:11:04.129Z"
   },
   {
    "duration": 12,
    "start_time": "2022-05-03T23:11:04.144Z"
   },
   {
    "duration": 14,
    "start_time": "2022-05-03T23:11:04.159Z"
   },
   {
    "duration": 18,
    "start_time": "2022-05-03T23:11:04.175Z"
   },
   {
    "duration": 31,
    "start_time": "2022-05-03T23:11:04.198Z"
   },
   {
    "duration": 24,
    "start_time": "2022-05-03T23:11:04.233Z"
   },
   {
    "duration": 8,
    "start_time": "2022-05-03T23:11:04.260Z"
   },
   {
    "duration": 12,
    "start_time": "2022-05-03T23:11:04.270Z"
   },
   {
    "duration": 12,
    "start_time": "2022-05-03T23:11:04.284Z"
   },
   {
    "duration": 40,
    "start_time": "2022-05-03T23:11:04.299Z"
   },
   {
    "duration": 10,
    "start_time": "2022-05-03T23:11:04.344Z"
   },
   {
    "duration": 30,
    "start_time": "2022-05-03T23:11:04.357Z"
   },
   {
    "duration": 6,
    "start_time": "2022-05-03T23:11:04.390Z"
   },
   {
    "duration": 28,
    "start_time": "2022-05-03T23:11:04.398Z"
   },
   {
    "duration": 21,
    "start_time": "2022-05-03T23:11:04.428Z"
   },
   {
    "duration": 11,
    "start_time": "2022-05-03T23:11:04.454Z"
   },
   {
    "duration": 12,
    "start_time": "2022-05-03T23:11:04.468Z"
   },
   {
    "duration": 22,
    "start_time": "2022-05-03T23:11:04.482Z"
   },
   {
    "duration": 20,
    "start_time": "2022-05-03T23:11:04.506Z"
   },
   {
    "duration": 18,
    "start_time": "2022-05-03T23:11:04.528Z"
   },
   {
    "duration": 182,
    "start_time": "2022-05-03T23:11:04.550Z"
   },
   {
    "duration": 8,
    "start_time": "2022-05-03T23:11:04.737Z"
   },
   {
    "duration": 33,
    "start_time": "2022-05-03T23:11:04.824Z"
   },
   {
    "duration": 1195,
    "start_time": "2022-05-04T14:49:16.758Z"
   },
   {
    "duration": 11,
    "start_time": "2022-05-04T14:49:17.955Z"
   },
   {
    "duration": 17,
    "start_time": "2022-05-04T14:49:17.968Z"
   },
   {
    "duration": 4,
    "start_time": "2022-05-04T14:49:17.987Z"
   },
   {
    "duration": 18,
    "start_time": "2022-05-04T14:49:17.994Z"
   },
   {
    "duration": 4,
    "start_time": "2022-05-04T14:49:18.015Z"
   },
   {
    "duration": 5,
    "start_time": "2022-05-04T14:49:18.021Z"
   },
   {
    "duration": 31,
    "start_time": "2022-05-04T14:49:18.028Z"
   },
   {
    "duration": 9,
    "start_time": "2022-05-04T14:49:18.061Z"
   },
   {
    "duration": 5,
    "start_time": "2022-05-04T14:49:18.072Z"
   },
   {
    "duration": 12,
    "start_time": "2022-05-04T14:49:18.079Z"
   },
   {
    "duration": 7,
    "start_time": "2022-05-04T14:49:18.093Z"
   },
   {
    "duration": 6,
    "start_time": "2022-05-04T14:49:18.102Z"
   },
   {
    "duration": 44,
    "start_time": "2022-05-04T14:49:18.111Z"
   },
   {
    "duration": 9,
    "start_time": "2022-05-04T14:49:18.156Z"
   },
   {
    "duration": 5,
    "start_time": "2022-05-04T14:49:18.166Z"
   },
   {
    "duration": 8,
    "start_time": "2022-05-04T14:49:18.173Z"
   },
   {
    "duration": 5,
    "start_time": "2022-05-04T14:49:18.183Z"
   },
   {
    "duration": 7,
    "start_time": "2022-05-04T14:49:18.190Z"
   },
   {
    "duration": 8,
    "start_time": "2022-05-04T14:49:18.198Z"
   },
   {
    "duration": 5,
    "start_time": "2022-05-04T14:49:18.208Z"
   },
   {
    "duration": 5,
    "start_time": "2022-05-04T14:49:18.215Z"
   },
   {
    "duration": 4,
    "start_time": "2022-05-04T14:49:18.254Z"
   },
   {
    "duration": 7,
    "start_time": "2022-05-04T14:49:18.259Z"
   },
   {
    "duration": 7,
    "start_time": "2022-05-04T14:49:18.267Z"
   },
   {
    "duration": 189,
    "start_time": "2022-05-04T14:49:18.276Z"
   },
   {
    "duration": 88,
    "start_time": "2022-05-04T14:49:18.467Z"
   },
   {
    "duration": 169,
    "start_time": "2022-05-04T14:49:18.557Z"
   },
   {
    "duration": 17,
    "start_time": "2022-05-04T14:50:06.464Z"
   },
   {
    "duration": 3,
    "start_time": "2022-05-04T14:51:33.811Z"
   },
   {
    "duration": 22,
    "start_time": "2022-05-04T14:51:34.778Z"
   },
   {
    "duration": 3,
    "start_time": "2022-05-04T14:52:53.768Z"
   },
   {
    "duration": 3,
    "start_time": "2022-05-04T14:59:04.727Z"
   },
   {
    "duration": 3,
    "start_time": "2022-05-04T14:59:39.413Z"
   },
   {
    "duration": 32,
    "start_time": "2022-05-04T15:00:25.351Z"
   },
   {
    "duration": 8,
    "start_time": "2022-05-04T15:01:58.608Z"
   },
   {
    "duration": 3,
    "start_time": "2022-05-04T15:04:32.560Z"
   },
   {
    "duration": 19,
    "start_time": "2022-05-04T15:04:33.255Z"
   },
   {
    "duration": 10,
    "start_time": "2022-05-04T15:05:17.846Z"
   },
   {
    "duration": 10,
    "start_time": "2022-05-04T15:10:40.197Z"
   },
   {
    "duration": 4,
    "start_time": "2022-05-04T15:10:52.593Z"
   },
   {
    "duration": 12,
    "start_time": "2022-05-04T15:11:30.510Z"
   },
   {
    "duration": 4,
    "start_time": "2022-05-04T15:12:04.942Z"
   },
   {
    "duration": 4,
    "start_time": "2022-05-04T15:12:22.222Z"
   },
   {
    "duration": 1314,
    "start_time": "2022-05-04T15:25:39.638Z"
   },
   {
    "duration": 12,
    "start_time": "2022-05-04T15:25:40.954Z"
   },
   {
    "duration": 79,
    "start_time": "2022-05-04T15:25:40.967Z"
   },
   {
    "duration": 12,
    "start_time": "2022-05-04T15:25:41.048Z"
   },
   {
    "duration": 28,
    "start_time": "2022-05-04T15:25:41.062Z"
   },
   {
    "duration": 10,
    "start_time": "2022-05-04T15:25:41.091Z"
   },
   {
    "duration": 25,
    "start_time": "2022-05-04T15:25:41.103Z"
   },
   {
    "duration": 22,
    "start_time": "2022-05-04T15:25:41.129Z"
   },
   {
    "duration": 16,
    "start_time": "2022-05-04T15:25:41.153Z"
   },
   {
    "duration": 21,
    "start_time": "2022-05-04T15:25:41.171Z"
   },
   {
    "duration": 14,
    "start_time": "2022-05-04T15:25:41.194Z"
   },
   {
    "duration": 6,
    "start_time": "2022-05-04T15:25:41.210Z"
   },
   {
    "duration": 42,
    "start_time": "2022-05-04T15:25:41.218Z"
   },
   {
    "duration": 16,
    "start_time": "2022-05-04T15:25:41.264Z"
   },
   {
    "duration": 31,
    "start_time": "2022-05-04T15:25:41.282Z"
   },
   {
    "duration": 17,
    "start_time": "2022-05-04T15:25:41.315Z"
   },
   {
    "duration": 14,
    "start_time": "2022-05-04T15:25:41.334Z"
   },
   {
    "duration": 16,
    "start_time": "2022-05-04T15:25:41.351Z"
   },
   {
    "duration": 90,
    "start_time": "2022-05-04T15:25:41.369Z"
   },
   {
    "duration": 21,
    "start_time": "2022-05-04T15:25:41.461Z"
   },
   {
    "duration": 19,
    "start_time": "2022-05-04T15:25:41.485Z"
   },
   {
    "duration": 29,
    "start_time": "2022-05-04T15:25:41.506Z"
   },
   {
    "duration": 117,
    "start_time": "2022-05-04T15:25:41.538Z"
   },
   {
    "duration": 105,
    "start_time": "2022-05-04T15:25:41.657Z"
   },
   {
    "duration": 16,
    "start_time": "2022-05-04T15:25:41.764Z"
   },
   {
    "duration": 81,
    "start_time": "2022-05-04T15:25:41.782Z"
   },
   {
    "duration": 102,
    "start_time": "2022-05-04T15:25:41.865Z"
   },
   {
    "duration": 8,
    "start_time": "2022-05-04T15:25:41.969Z"
   },
   {
    "duration": 43,
    "start_time": "2022-05-04T15:25:41.978Z"
   },
   {
    "duration": 8,
    "start_time": "2022-05-04T15:25:42.022Z"
   },
   {
    "duration": 2805,
    "start_time": "2022-05-05T09:47:37.231Z"
   },
   {
    "duration": 13,
    "start_time": "2022-05-05T09:47:40.038Z"
   },
   {
    "duration": 16,
    "start_time": "2022-05-05T09:47:40.053Z"
   },
   {
    "duration": 4,
    "start_time": "2022-05-05T09:47:40.071Z"
   },
   {
    "duration": 14,
    "start_time": "2022-05-05T09:47:40.077Z"
   },
   {
    "duration": 16,
    "start_time": "2022-05-05T09:47:40.093Z"
   },
   {
    "duration": 6,
    "start_time": "2022-05-05T09:47:40.111Z"
   },
   {
    "duration": 7,
    "start_time": "2022-05-05T09:47:40.192Z"
   },
   {
    "duration": 9,
    "start_time": "2022-05-05T09:47:40.427Z"
   },
   {
    "duration": 6,
    "start_time": "2022-05-05T09:47:40.665Z"
   },
   {
    "duration": 8,
    "start_time": "2022-05-05T09:47:41.189Z"
   },
   {
    "duration": 5,
    "start_time": "2022-05-05T09:47:41.589Z"
   },
   {
    "duration": 6,
    "start_time": "2022-05-05T09:47:41.777Z"
   },
   {
    "duration": 5,
    "start_time": "2022-05-05T09:47:42.019Z"
   },
   {
    "duration": 7,
    "start_time": "2022-05-05T09:47:42.260Z"
   },
   {
    "duration": 6,
    "start_time": "2022-05-05T09:47:42.670Z"
   },
   {
    "duration": 9,
    "start_time": "2022-05-05T09:47:42.916Z"
   },
   {
    "duration": 4,
    "start_time": "2022-05-05T09:49:04.772Z"
   },
   {
    "duration": 5,
    "start_time": "2022-05-05T09:49:05.493Z"
   },
   {
    "duration": 5,
    "start_time": "2022-05-05T09:49:06.064Z"
   },
   {
    "duration": 3,
    "start_time": "2022-05-05T09:49:06.865Z"
   },
   {
    "duration": 4,
    "start_time": "2022-05-05T09:49:07.286Z"
   },
   {
    "duration": 11,
    "start_time": "2022-05-05T09:49:07.472Z"
   },
   {
    "duration": 3,
    "start_time": "2022-05-05T09:49:07.674Z"
   },
   {
    "duration": 10,
    "start_time": "2022-05-05T09:49:07.821Z"
   },
   {
    "duration": 3,
    "start_time": "2022-05-05T09:49:07.992Z"
   },
   {
    "duration": 8,
    "start_time": "2022-05-05T09:49:08.683Z"
   },
   {
    "duration": 3,
    "start_time": "2022-05-05T09:49:08.801Z"
   },
   {
    "duration": 8,
    "start_time": "2022-05-05T09:49:08.960Z"
   },
   {
    "duration": 3,
    "start_time": "2022-05-05T09:49:09.134Z"
   }
  ],
  "kernelspec": {
   "display_name": "Python 3 (ipykernel)",
   "language": "python",
   "name": "python3"
  },
  "language_info": {
   "codemirror_mode": {
    "name": "ipython",
    "version": 3
   },
   "file_extension": ".py",
   "mimetype": "text/x-python",
   "name": "python",
   "nbconvert_exporter": "python",
   "pygments_lexer": "ipython3",
   "version": "3.10.9"
  },
  "toc": {
   "base_numbering": 1,
   "nav_menu": {},
   "number_sections": true,
   "sideBar": true,
   "skip_h1_title": true,
   "title_cell": "Содержание",
   "title_sidebar": "Contents",
   "toc_cell": true,
   "toc_position": {},
   "toc_section_display": true,
   "toc_window_display": true
  }
 },
 "nbformat": 4,
 "nbformat_minor": 2
}
